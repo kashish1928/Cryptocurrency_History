{
 "cells": [
  {
   "cell_type": "code",
   "execution_count": 21,
   "id": "1b8096ef-b690-46a0-b6a2-76a819b41c3d",
   "metadata": {},
   "outputs": [],
   "source": [
    "import pandas as pd\n",
    "import numpy as np\n",
    "import seaborn as sns\n",
    "import matplotlib.pyplot as plt\n",
    "import missingno as msno"
   ]
  },
  {
   "cell_type": "code",
   "execution_count": 22,
   "id": "246c6431-922f-4e19-9211-2acc9daf4395",
   "metadata": {},
   "outputs": [],
   "source": [
    "df = pd.read_csv(\"data/Aave.csv\")"
   ]
  },
  {
   "cell_type": "code",
   "execution_count": 23,
   "id": "cc8a0407-2878-4e0a-ae4d-7920d308d658",
   "metadata": {},
   "outputs": [
    {
     "data": {
      "text/plain": [
       "(1275, 8)"
      ]
     },
     "execution_count": 23,
     "metadata": {},
     "output_type": "execute_result"
    }
   ],
   "source": [
    "df.shape"
   ]
  },
  {
   "cell_type": "code",
   "execution_count": 24,
   "id": "4ae9c58f-2a74-42b4-931b-739523d26171",
   "metadata": {},
   "outputs": [
    {
     "data": {
      "text/html": [
       "<div>\n",
       "<style scoped>\n",
       "    .dataframe tbody tr th:only-of-type {\n",
       "        vertical-align: middle;\n",
       "    }\n",
       "\n",
       "    .dataframe tbody tr th {\n",
       "        vertical-align: top;\n",
       "    }\n",
       "\n",
       "    .dataframe thead th {\n",
       "        text-align: right;\n",
       "    }\n",
       "</style>\n",
       "<table border=\"1\" class=\"dataframe\">\n",
       "  <thead>\n",
       "    <tr style=\"text-align: right;\">\n",
       "      <th></th>\n",
       "      <th>SNo</th>\n",
       "      <th>Date</th>\n",
       "      <th>Price</th>\n",
       "      <th>Open</th>\n",
       "      <th>High</th>\n",
       "      <th>Low</th>\n",
       "      <th>Vol.</th>\n",
       "      <th>Change %</th>\n",
       "    </tr>\n",
       "  </thead>\n",
       "  <tbody>\n",
       "    <tr>\n",
       "      <th>0</th>\n",
       "      <td>1</td>\n",
       "      <td>2018-01-30</td>\n",
       "      <td>0.15</td>\n",
       "      <td>0.17</td>\n",
       "      <td>0.17</td>\n",
       "      <td>0.14</td>\n",
       "      <td>530470.0</td>\n",
       "      <td>-7.95</td>\n",
       "    </tr>\n",
       "    <tr>\n",
       "      <th>1</th>\n",
       "      <td>2</td>\n",
       "      <td>2018-01-31</td>\n",
       "      <td>0.14</td>\n",
       "      <td>0.15</td>\n",
       "      <td>0.15</td>\n",
       "      <td>0.13</td>\n",
       "      <td>396050.0</td>\n",
       "      <td>-11.10</td>\n",
       "    </tr>\n",
       "    <tr>\n",
       "      <th>2</th>\n",
       "      <td>3</td>\n",
       "      <td>2018-02-01</td>\n",
       "      <td>0.11</td>\n",
       "      <td>0.14</td>\n",
       "      <td>0.14</td>\n",
       "      <td>0.11</td>\n",
       "      <td>987260.0</td>\n",
       "      <td>-17.46</td>\n",
       "    </tr>\n",
       "    <tr>\n",
       "      <th>3</th>\n",
       "      <td>4</td>\n",
       "      <td>2018-02-02</td>\n",
       "      <td>0.10</td>\n",
       "      <td>0.11</td>\n",
       "      <td>0.11</td>\n",
       "      <td>0.08</td>\n",
       "      <td>1810000.0</td>\n",
       "      <td>-8.32</td>\n",
       "    </tr>\n",
       "    <tr>\n",
       "      <th>4</th>\n",
       "      <td>5</td>\n",
       "      <td>2018-02-03</td>\n",
       "      <td>0.11</td>\n",
       "      <td>0.10</td>\n",
       "      <td>0.12</td>\n",
       "      <td>0.09</td>\n",
       "      <td>1200000.0</td>\n",
       "      <td>6.85</td>\n",
       "    </tr>\n",
       "  </tbody>\n",
       "</table>\n",
       "</div>"
      ],
      "text/plain": [
       "   SNo        Date  Price  Open  High   Low       Vol.  Change %\n",
       "0    1  2018-01-30   0.15  0.17  0.17  0.14   530470.0     -7.95\n",
       "1    2  2018-01-31   0.14  0.15  0.15  0.13   396050.0    -11.10\n",
       "2    3  2018-02-01   0.11  0.14  0.14  0.11   987260.0    -17.46\n",
       "3    4  2018-02-02   0.10  0.11  0.11  0.08  1810000.0     -8.32\n",
       "4    5  2018-02-03   0.11  0.10  0.12  0.09  1200000.0      6.85"
      ]
     },
     "execution_count": 24,
     "metadata": {},
     "output_type": "execute_result"
    }
   ],
   "source": [
    "df.head()"
   ]
  },
  {
   "cell_type": "code",
   "execution_count": 25,
   "id": "957fb79e-d02d-4e92-b673-d1634f40fb0c",
   "metadata": {},
   "outputs": [
    {
     "data": {
      "text/html": [
       "<div>\n",
       "<style scoped>\n",
       "    .dataframe tbody tr th:only-of-type {\n",
       "        vertical-align: middle;\n",
       "    }\n",
       "\n",
       "    .dataframe tbody tr th {\n",
       "        vertical-align: top;\n",
       "    }\n",
       "\n",
       "    .dataframe thead th {\n",
       "        text-align: right;\n",
       "    }\n",
       "</style>\n",
       "<table border=\"1\" class=\"dataframe\">\n",
       "  <thead>\n",
       "    <tr style=\"text-align: right;\">\n",
       "      <th></th>\n",
       "      <th>SNo</th>\n",
       "      <th>Price</th>\n",
       "      <th>Open</th>\n",
       "      <th>High</th>\n",
       "      <th>Low</th>\n",
       "      <th>Vol.</th>\n",
       "      <th>Change %</th>\n",
       "    </tr>\n",
       "  </thead>\n",
       "  <tbody>\n",
       "    <tr>\n",
       "      <th>count</th>\n",
       "      <td>1275.000000</td>\n",
       "      <td>1275.000000</td>\n",
       "      <td>1275.000000</td>\n",
       "      <td>1275.000000</td>\n",
       "      <td>1275.000000</td>\n",
       "      <td>1.275000e+03</td>\n",
       "      <td>1275.000000</td>\n",
       "    </tr>\n",
       "    <tr>\n",
       "      <th>mean</th>\n",
       "      <td>638.000000</td>\n",
       "      <td>67.045906</td>\n",
       "      <td>66.742322</td>\n",
       "      <td>71.129875</td>\n",
       "      <td>62.490110</td>\n",
       "      <td>6.741274e+05</td>\n",
       "      <td>5.454431</td>\n",
       "    </tr>\n",
       "    <tr>\n",
       "      <th>std</th>\n",
       "      <td>368.205106</td>\n",
       "      <td>139.960408</td>\n",
       "      <td>139.634444</td>\n",
       "      <td>148.895685</td>\n",
       "      <td>130.723039</td>\n",
       "      <td>1.077261e+06</td>\n",
       "      <td>176.107560</td>\n",
       "    </tr>\n",
       "    <tr>\n",
       "      <th>min</th>\n",
       "      <td>1.000000</td>\n",
       "      <td>0.000000</td>\n",
       "      <td>0.000000</td>\n",
       "      <td>0.000000</td>\n",
       "      <td>0.000000</td>\n",
       "      <td>0.000000e+00</td>\n",
       "      <td>-38.080000</td>\n",
       "    </tr>\n",
       "    <tr>\n",
       "      <th>25%</th>\n",
       "      <td>319.500000</td>\n",
       "      <td>0.010000</td>\n",
       "      <td>0.010000</td>\n",
       "      <td>0.010000</td>\n",
       "      <td>0.010000</td>\n",
       "      <td>5.339500e+04</td>\n",
       "      <td>0.000000</td>\n",
       "    </tr>\n",
       "    <tr>\n",
       "      <th>50%</th>\n",
       "      <td>638.000000</td>\n",
       "      <td>0.030000</td>\n",
       "      <td>0.030000</td>\n",
       "      <td>0.030000</td>\n",
       "      <td>0.030000</td>\n",
       "      <td>3.105900e+05</td>\n",
       "      <td>0.000000</td>\n",
       "    </tr>\n",
       "    <tr>\n",
       "      <th>75%</th>\n",
       "      <td>956.500000</td>\n",
       "      <td>0.580000</td>\n",
       "      <td>0.580000</td>\n",
       "      <td>0.620000</td>\n",
       "      <td>0.540000</td>\n",
       "      <td>8.440000e+05</td>\n",
       "      <td>0.000000</td>\n",
       "    </tr>\n",
       "    <tr>\n",
       "      <th>max</th>\n",
       "      <td>1275.000000</td>\n",
       "      <td>629.380000</td>\n",
       "      <td>629.380000</td>\n",
       "      <td>665.180000</td>\n",
       "      <td>564.850000</td>\n",
       "      <td>1.050000e+07</td>\n",
       "      <td>6284.530000</td>\n",
       "    </tr>\n",
       "  </tbody>\n",
       "</table>\n",
       "</div>"
      ],
      "text/plain": [
       "               SNo        Price         Open         High          Low  \\\n",
       "count  1275.000000  1275.000000  1275.000000  1275.000000  1275.000000   \n",
       "mean    638.000000    67.045906    66.742322    71.129875    62.490110   \n",
       "std     368.205106   139.960408   139.634444   148.895685   130.723039   \n",
       "min       1.000000     0.000000     0.000000     0.000000     0.000000   \n",
       "25%     319.500000     0.010000     0.010000     0.010000     0.010000   \n",
       "50%     638.000000     0.030000     0.030000     0.030000     0.030000   \n",
       "75%     956.500000     0.580000     0.580000     0.620000     0.540000   \n",
       "max    1275.000000   629.380000   629.380000   665.180000   564.850000   \n",
       "\n",
       "               Vol.     Change %  \n",
       "count  1.275000e+03  1275.000000  \n",
       "mean   6.741274e+05     5.454431  \n",
       "std    1.077261e+06   176.107560  \n",
       "min    0.000000e+00   -38.080000  \n",
       "25%    5.339500e+04     0.000000  \n",
       "50%    3.105900e+05     0.000000  \n",
       "75%    8.440000e+05     0.000000  \n",
       "max    1.050000e+07  6284.530000  "
      ]
     },
     "execution_count": 25,
     "metadata": {},
     "output_type": "execute_result"
    }
   ],
   "source": [
    "df.describe()"
   ]
  },
  {
   "cell_type": "code",
   "execution_count": 26,
   "id": "413b98a7-a825-461d-b8d2-5b84411d295a",
   "metadata": {},
   "outputs": [
    {
     "data": {
      "text/plain": [
       "Index(['SNo', 'Date', 'Price', 'Open', 'High', 'Low', 'Vol.', 'Change %'], dtype='object')"
      ]
     },
     "execution_count": 26,
     "metadata": {},
     "output_type": "execute_result"
    }
   ],
   "source": [
    "df.columns"
   ]
  },
  {
   "cell_type": "code",
   "execution_count": 27,
   "id": "239ac0bb-ea31-4a4e-b488-f5e3cd88f0ef",
   "metadata": {},
   "outputs": [
    {
     "data": {
      "text/html": [
       "<div>\n",
       "<style scoped>\n",
       "    .dataframe tbody tr th:only-of-type {\n",
       "        vertical-align: middle;\n",
       "    }\n",
       "\n",
       "    .dataframe tbody tr th {\n",
       "        vertical-align: top;\n",
       "    }\n",
       "\n",
       "    .dataframe thead th {\n",
       "        text-align: right;\n",
       "    }\n",
       "</style>\n",
       "<table border=\"1\" class=\"dataframe\">\n",
       "  <thead>\n",
       "    <tr style=\"text-align: right;\">\n",
       "      <th></th>\n",
       "      <th>Date</th>\n",
       "    </tr>\n",
       "  </thead>\n",
       "  <tbody>\n",
       "    <tr>\n",
       "      <th>count</th>\n",
       "      <td>1275</td>\n",
       "    </tr>\n",
       "    <tr>\n",
       "      <th>unique</th>\n",
       "      <td>1275</td>\n",
       "    </tr>\n",
       "    <tr>\n",
       "      <th>top</th>\n",
       "      <td>2018-01-30</td>\n",
       "    </tr>\n",
       "    <tr>\n",
       "      <th>freq</th>\n",
       "      <td>1</td>\n",
       "    </tr>\n",
       "  </tbody>\n",
       "</table>\n",
       "</div>"
      ],
      "text/plain": [
       "              Date\n",
       "count         1275\n",
       "unique        1275\n",
       "top     2018-01-30\n",
       "freq             1"
      ]
     },
     "execution_count": 27,
     "metadata": {},
     "output_type": "execute_result"
    }
   ],
   "source": [
    "df.describe(exclude=np.number)"
   ]
  },
  {
   "cell_type": "code",
   "execution_count": 28,
   "id": "04223941-e328-454f-8dce-5d5309bb985d",
   "metadata": {},
   "outputs": [
    {
     "data": {
      "text/plain": [
       "SNo         1275\n",
       "Date        1275\n",
       "Price        353\n",
       "Open         354\n",
       "High         360\n",
       "Low          351\n",
       "Vol.        1152\n",
       "Change %     436\n",
       "dtype: int64"
      ]
     },
     "execution_count": 28,
     "metadata": {},
     "output_type": "execute_result"
    }
   ],
   "source": [
    "df.nunique(axis=0)"
   ]
  },
  {
   "cell_type": "code",
   "execution_count": 41,
   "id": "4909718a-814a-43c3-a063-790a74a89ecf",
   "metadata": {},
   "outputs": [
    {
     "data": {
      "image/png": "[encoded data removed]",
      "text/plain": [
       "<Figure size 1000x500 with 3 Axes>"
      ]
     },
     "metadata": {},
     "output_type": "display_data"
    }
   ],
   "source": [
    "msno.bar(df,figsize=(10,5), fontsize=12)\n",
    "plt.title(\"Graph to analyze missing Values\")\n",
    "plt.show()"
   ]
  },
  {
   "cell_type": "code",
   "execution_count": 43,
   "id": "8256fa74-9fe4-4750-836a-605ee119c921",
   "metadata": {},
   "outputs": [],
   "source": [
    "df_updated = df.drop([\"SNo\"],axis=1)"
   ]
  },
  {
   "cell_type": "code",
   "execution_count": 44,
   "id": "fe0731a1-9021-4db5-87e3-8a209d3f555c",
   "metadata": {},
   "outputs": [
    {
     "data": {
      "text/html": [
       "<div>\n",
       "<style scoped>\n",
       "    .dataframe tbody tr th:only-of-type {\n",
       "        vertical-align: middle;\n",
       "    }\n",
       "\n",
       "    .dataframe tbody tr th {\n",
       "        vertical-align: top;\n",
       "    }\n",
       "\n",
       "    .dataframe thead th {\n",
       "        text-align: right;\n",
       "    }\n",
       "</style>\n",
       "<table border=\"1\" class=\"dataframe\">\n",
       "  <thead>\n",
       "    <tr style=\"text-align: right;\">\n",
       "      <th></th>\n",
       "      <th>Date</th>\n",
       "      <th>Price</th>\n",
       "      <th>Open</th>\n",
       "      <th>High</th>\n",
       "      <th>Low</th>\n",
       "      <th>Vol.</th>\n",
       "      <th>Change %</th>\n",
       "    </tr>\n",
       "  </thead>\n",
       "  <tbody>\n",
       "    <tr>\n",
       "      <th>0</th>\n",
       "      <td>2018-01-30</td>\n",
       "      <td>0.15</td>\n",
       "      <td>0.17</td>\n",
       "      <td>0.17</td>\n",
       "      <td>0.14</td>\n",
       "      <td>530470.0</td>\n",
       "      <td>-7.95</td>\n",
       "    </tr>\n",
       "    <tr>\n",
       "      <th>1</th>\n",
       "      <td>2018-01-31</td>\n",
       "      <td>0.14</td>\n",
       "      <td>0.15</td>\n",
       "      <td>0.15</td>\n",
       "      <td>0.13</td>\n",
       "      <td>396050.0</td>\n",
       "      <td>-11.10</td>\n",
       "    </tr>\n",
       "    <tr>\n",
       "      <th>2</th>\n",
       "      <td>2018-02-01</td>\n",
       "      <td>0.11</td>\n",
       "      <td>0.14</td>\n",
       "      <td>0.14</td>\n",
       "      <td>0.11</td>\n",
       "      <td>987260.0</td>\n",
       "      <td>-17.46</td>\n",
       "    </tr>\n",
       "    <tr>\n",
       "      <th>3</th>\n",
       "      <td>2018-02-02</td>\n",
       "      <td>0.10</td>\n",
       "      <td>0.11</td>\n",
       "      <td>0.11</td>\n",
       "      <td>0.08</td>\n",
       "      <td>1810000.0</td>\n",
       "      <td>-8.32</td>\n",
       "    </tr>\n",
       "    <tr>\n",
       "      <th>4</th>\n",
       "      <td>2018-02-03</td>\n",
       "      <td>0.11</td>\n",
       "      <td>0.10</td>\n",
       "      <td>0.12</td>\n",
       "      <td>0.09</td>\n",
       "      <td>1200000.0</td>\n",
       "      <td>6.85</td>\n",
       "    </tr>\n",
       "  </tbody>\n",
       "</table>\n",
       "</div>"
      ],
      "text/plain": [
       "         Date  Price  Open  High   Low       Vol.  Change %\n",
       "0  2018-01-30   0.15  0.17  0.17  0.14   530470.0     -7.95\n",
       "1  2018-01-31   0.14  0.15  0.15  0.13   396050.0    -11.10\n",
       "2  2018-02-01   0.11  0.14  0.14  0.11   987260.0    -17.46\n",
       "3  2018-02-02   0.10  0.11  0.11  0.08  1810000.0     -8.32\n",
       "4  2018-02-03   0.11  0.10  0.12  0.09  1200000.0      6.85"
      ]
     },
     "execution_count": 44,
     "metadata": {},
     "output_type": "execute_result"
    }
   ],
   "source": [
    "df_updated.head()"
   ]
  },
  {
   "cell_type": "code",
   "execution_count": 55,
   "id": "a39681e8-197e-42a1-bba9-493365da020c",
   "metadata": {},
   "outputs": [
    {
     "name": "stderr",
     "output_type": "stream",
     "text": [
      "/var/folders/lk/42pvz2hs1cd8n15b_yf1d1fm0000gn/T/ipykernel_47932/3012711292.py:1: FutureWarning: The default value of numeric_only in DataFrame.corr is deprecated. In a future version, it will default to False. Select only valid columns or specify the value of numeric_only to silence this warning.\n",
      "  correlation = df_updated. corr ()\n"
     ]
    },
    {
     "data": {
      "text/html": [
       "<style type=\"text/css\">\n",
       "#T_9a7dd_row0_col0, #T_9a7dd_row0_col1, #T_9a7dd_row0_col2, #T_9a7dd_row0_col3, #T_9a7dd_row1_col0, #T_9a7dd_row1_col1, #T_9a7dd_row1_col2, #T_9a7dd_row1_col3, #T_9a7dd_row2_col0, #T_9a7dd_row2_col1, #T_9a7dd_row2_col2, #T_9a7dd_row2_col3, #T_9a7dd_row3_col0, #T_9a7dd_row3_col1, #T_9a7dd_row3_col2, #T_9a7dd_row3_col3, #T_9a7dd_row4_col4, #T_9a7dd_row5_col5 {\n",
       "  background-color: #006837;\n",
       "  color: #f1f1f1;\n",
       "}\n",
       "#T_9a7dd_row0_col4, #T_9a7dd_row1_col4, #T_9a7dd_row2_col4, #T_9a7dd_row3_col4, #T_9a7dd_row4_col0, #T_9a7dd_row4_col1, #T_9a7dd_row4_col2, #T_9a7dd_row4_col3, #T_9a7dd_row4_col5 {\n",
       "  background-color: #a50026;\n",
       "  color: #f1f1f1;\n",
       "}\n",
       "#T_9a7dd_row0_col5, #T_9a7dd_row1_col5, #T_9a7dd_row2_col5, #T_9a7dd_row3_col5 {\n",
       "  background-color: #a90426;\n",
       "  color: #f1f1f1;\n",
       "}\n",
       "#T_9a7dd_row5_col0, #T_9a7dd_row5_col2, #T_9a7dd_row5_col3 {\n",
       "  background-color: #f57245;\n",
       "  color: #f1f1f1;\n",
       "}\n",
       "#T_9a7dd_row5_col1 {\n",
       "  background-color: #f47044;\n",
       "  color: #f1f1f1;\n",
       "}\n",
       "#T_9a7dd_row5_col4 {\n",
       "  background-color: #f46d43;\n",
       "  color: #f1f1f1;\n",
       "}\n",
       "</style>\n",
       "<table id=\"T_9a7dd\">\n",
       "  <thead>\n",
       "    <tr>\n",
       "      <th class=\"blank level0\" >&nbsp;</th>\n",
       "      <th id=\"T_9a7dd_level0_col0\" class=\"col_heading level0 col0\" >Price</th>\n",
       "      <th id=\"T_9a7dd_level0_col1\" class=\"col_heading level0 col1\" >Open</th>\n",
       "      <th id=\"T_9a7dd_level0_col2\" class=\"col_heading level0 col2\" >High</th>\n",
       "      <th id=\"T_9a7dd_level0_col3\" class=\"col_heading level0 col3\" >Low</th>\n",
       "      <th id=\"T_9a7dd_level0_col4\" class=\"col_heading level0 col4\" >Vol.</th>\n",
       "      <th id=\"T_9a7dd_level0_col5\" class=\"col_heading level0 col5\" >Change %</th>\n",
       "    </tr>\n",
       "  </thead>\n",
       "  <tbody>\n",
       "    <tr>\n",
       "      <th id=\"T_9a7dd_level0_row0\" class=\"row_heading level0 row0\" >Price</th>\n",
       "      <td id=\"T_9a7dd_row0_col0\" class=\"data row0 col0\" >1.000000</td>\n",
       "      <td id=\"T_9a7dd_row0_col1\" class=\"data row0 col1\" >0.995732</td>\n",
       "      <td id=\"T_9a7dd_row0_col2\" class=\"data row0 col2\" >0.997871</td>\n",
       "      <td id=\"T_9a7dd_row0_col3\" class=\"data row0 col3\" >0.997881</td>\n",
       "      <td id=\"T_9a7dd_row0_col4\" class=\"data row0 col4\" >-0.271633</td>\n",
       "      <td id=\"T_9a7dd_row0_col5\" class=\"data row0 col5\" >-0.005694</td>\n",
       "    </tr>\n",
       "    <tr>\n",
       "      <th id=\"T_9a7dd_level0_row1\" class=\"row_heading level0 row1\" >Open</th>\n",
       "      <td id=\"T_9a7dd_row1_col0\" class=\"data row1 col0\" >0.995732</td>\n",
       "      <td id=\"T_9a7dd_row1_col1\" class=\"data row1 col1\" >1.000000</td>\n",
       "      <td id=\"T_9a7dd_row1_col2\" class=\"data row1 col2\" >0.997759</td>\n",
       "      <td id=\"T_9a7dd_row1_col3\" class=\"data row1 col3\" >0.996181</td>\n",
       "      <td id=\"T_9a7dd_row1_col4\" class=\"data row1 col4\" >-0.271195</td>\n",
       "      <td id=\"T_9a7dd_row1_col5\" class=\"data row1 col5\" >-0.008422</td>\n",
       "    </tr>\n",
       "    <tr>\n",
       "      <th id=\"T_9a7dd_level0_row2\" class=\"row_heading level0 row2\" >High</th>\n",
       "      <td id=\"T_9a7dd_row2_col0\" class=\"data row2 col0\" >0.997871</td>\n",
       "      <td id=\"T_9a7dd_row2_col1\" class=\"data row2 col1\" >0.997759</td>\n",
       "      <td id=\"T_9a7dd_row2_col2\" class=\"data row2 col2\" >1.000000</td>\n",
       "      <td id=\"T_9a7dd_row2_col3\" class=\"data row2 col3\" >0.995769</td>\n",
       "      <td id=\"T_9a7dd_row2_col4\" class=\"data row2 col4\" >-0.270890</td>\n",
       "      <td id=\"T_9a7dd_row2_col5\" class=\"data row2 col5\" >-0.006563</td>\n",
       "    </tr>\n",
       "    <tr>\n",
       "      <th id=\"T_9a7dd_level0_row3\" class=\"row_heading level0 row3\" >Low</th>\n",
       "      <td id=\"T_9a7dd_row3_col0\" class=\"data row3 col0\" >0.997881</td>\n",
       "      <td id=\"T_9a7dd_row3_col1\" class=\"data row3 col1\" >0.996181</td>\n",
       "      <td id=\"T_9a7dd_row3_col2\" class=\"data row3 col2\" >0.995769</td>\n",
       "      <td id=\"T_9a7dd_row3_col3\" class=\"data row3 col3\" >1.000000</td>\n",
       "      <td id=\"T_9a7dd_row3_col4\" class=\"data row3 col4\" >-0.270938</td>\n",
       "      <td id=\"T_9a7dd_row3_col5\" class=\"data row3 col5\" >-0.006963</td>\n",
       "    </tr>\n",
       "    <tr>\n",
       "      <th id=\"T_9a7dd_level0_row4\" class=\"row_heading level0 row4\" >Vol.</th>\n",
       "      <td id=\"T_9a7dd_row4_col0\" class=\"data row4 col0\" >-0.271633</td>\n",
       "      <td id=\"T_9a7dd_row4_col1\" class=\"data row4 col1\" >-0.271195</td>\n",
       "      <td id=\"T_9a7dd_row4_col2\" class=\"data row4 col2\" >-0.270890</td>\n",
       "      <td id=\"T_9a7dd_row4_col3\" class=\"data row4 col3\" >-0.270938</td>\n",
       "      <td id=\"T_9a7dd_row4_col4\" class=\"data row4 col4\" >1.000000</td>\n",
       "      <td id=\"T_9a7dd_row4_col5\" class=\"data row4 col5\" >-0.017136</td>\n",
       "    </tr>\n",
       "    <tr>\n",
       "      <th id=\"T_9a7dd_level0_row5\" class=\"row_heading level0 row5\" >Change %</th>\n",
       "      <td id=\"T_9a7dd_row5_col0\" class=\"data row5 col0\" >-0.005694</td>\n",
       "      <td id=\"T_9a7dd_row5_col1\" class=\"data row5 col1\" >-0.008422</td>\n",
       "      <td id=\"T_9a7dd_row5_col2\" class=\"data row5 col2\" >-0.006563</td>\n",
       "      <td id=\"T_9a7dd_row5_col3\" class=\"data row5 col3\" >-0.006963</td>\n",
       "      <td id=\"T_9a7dd_row5_col4\" class=\"data row5 col4\" >-0.017136</td>\n",
       "      <td id=\"T_9a7dd_row5_col5\" class=\"data row5 col5\" >1.000000</td>\n",
       "    </tr>\n",
       "  </tbody>\n",
       "</table>\n"
      ],
      "text/plain": [
       "<pandas.io.formats.style.Styler at 0x1b5cb3b20>"
      ]
     },
     "execution_count": 55,
     "metadata": {},
     "output_type": "execute_result"
    }
   ],
   "source": [
    "correlation = df_updated. corr ()  \n",
    "correlation. style. background_gradient (cmap = 'RdYlGn')  "
   ]
  },
  {
   "cell_type": "code",
   "execution_count": null,
   "id": "7987a412-7971-4ea2-925c-371a04c550b0",
   "metadata": {},
   "outputs": [],
   "source": []
  }
 ],
 "metadata": {
  "kernelspec": {
   "display_name": "Python 3 (ipykernel)",
   "language": "python",
   "name": "python3"
  },
  "language_info": {
   "codemirror_mode": {
    "name": "ipython",
    "version": 3
   },
   "file_extension": ".py",
   "mimetype": "text/x-python",
   "name": "python",
   "nbconvert_exporter": "python",
   "pygments_lexer": "ipython3",
   "version": "3.10.8"
  }
 },
 "nbformat": 4,
 "nbformat_minor": 5
}
