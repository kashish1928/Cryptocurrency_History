import pandas as pd
import numpy as np
import seaborn as sns
import matplotlib.pyplot as plt
import missingno as msno


df = pd.read_csv("data/Aave.csv")


df.shape


df.head()


df.describe()


df.columns


df.describe(exclude=np.number)


df.nunique(axis=0)


msno.bar(df,figsize=(10,5), fontsize=12)
plt.title("Graph to analyze missing Values")
plt.show()


df_updated = df.drop(["SNo"],axis=1)


df_updated.head()


correlation = df_updated. corr ()  
correlation. style. background_gradient (cmap = 'RdYlGn')  



